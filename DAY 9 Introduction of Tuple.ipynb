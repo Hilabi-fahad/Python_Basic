{
 "cells": [
  {
   "cell_type": "markdown",
   "id": "6eadfedd",
   "metadata": {},
   "source": [
    "## DAY 9"
   ]
  },
  {
   "cell_type": "markdown",
   "id": "a7e5b3e9",
   "metadata": {},
   "source": [
    "## Tuple "
   ]
  },
  {
   "cell_type": "markdown",
   "id": "ababa55d",
   "metadata": {},
   "source": [
    "ordered , duplicate and unchangable "
   ]
  },
  {
   "cell_type": "code",
   "execution_count": 3,
   "id": "edfc92b0",
   "metadata": {},
   "outputs": [
    {
     "name": "stdout",
     "output_type": "stream",
     "text": [
      "<class 'tuple'>\n",
      "(1, 2, 3, 4)\n"
     ]
    }
   ],
   "source": [
    "my_tuple=(1,2,3,4)\n",
    "print(type(my_tuple))\n",
    "print(my_tuple)"
   ]
  },
  {
   "cell_type": "code",
   "execution_count": 5,
   "id": "ea491e2a",
   "metadata": {},
   "outputs": [
    {
     "name": "stdout",
     "output_type": "stream",
     "text": [
      "('hello', 21, 2.4, [1, 2, 3, 4])\n"
     ]
    }
   ],
   "source": [
    "## mix tuple\n",
    "my_t=('hello',21,2.4,[1,2,3,4])\n",
    "print(my_t)"
   ]
  },
  {
   "cell_type": "code",
   "execution_count": 7,
   "id": "ad50c336",
   "metadata": {},
   "outputs": [
    {
     "name": "stdout",
     "output_type": "stream",
     "text": [
      "<class 'tuple'>\n"
     ]
    }
   ],
   "source": [
    "my_t=()\n",
    "print(type(my_t))"
   ]
  },
  {
   "cell_type": "code",
   "execution_count": 8,
   "id": "0d1379e6",
   "metadata": {},
   "outputs": [
    {
     "name": "stdout",
     "output_type": "stream",
     "text": [
      "<class 'tuple'>\n",
      "('hello',)\n"
     ]
    }
   ],
   "source": [
    "## Creating a tuple in only one value \n",
    "\n",
    "a=('hello',)\n",
    "print (type(a))\n",
    "print (a)"
   ]
  },
  {
   "cell_type": "code",
   "execution_count": 9,
   "id": "f9ff8376",
   "metadata": {},
   "outputs": [
    {
     "name": "stdout",
     "output_type": "stream",
     "text": [
      "1\n",
      "6\n"
     ]
    }
   ],
   "source": [
    "## Indexing in Tuple\n",
    "\n",
    "a =(1,2,3,4,5,6)\n",
    "print(a[0])\n",
    "print(a[-1])"
   ]
  },
  {
   "cell_type": "code",
   "execution_count": 10,
   "id": "d3ab5044",
   "metadata": {},
   "outputs": [
    {
     "name": "stdout",
     "output_type": "stream",
     "text": [
      "(3, 4, 5)\n",
      "()\n"
     ]
    }
   ],
   "source": [
    "### Slicing of Tuple\n",
    "a =(1,2,3,4,5,6,7,8)\n",
    "print(a[2:5])\n",
    "print(a[-1:-3])"
   ]
  },
  {
   "cell_type": "code",
   "execution_count": 31,
   "id": "a909ca56",
   "metadata": {},
   "outputs": [
    {
     "name": "stdout",
     "output_type": "stream",
     "text": [
      "()\n",
      "<class 'tuple'>\n"
     ]
    }
   ],
   "source": [
    "## Constructor \n",
    "a=tuple(())\n",
    "print (a)\n",
    "print(type(a))"
   ]
  },
  {
   "cell_type": "code",
   "execution_count": 16,
   "id": "11d125e8",
   "metadata": {},
   "outputs": [
    {
     "name": "stdout",
     "output_type": "stream",
     "text": [
      "(1, 2, 3, 4, 5)\n",
      "[1, 2, 3, 4, 5, 66]\n"
     ]
    }
   ],
   "source": [
    "## Tuple does not the values \n",
    "## need to convert into list and make the changes\n",
    "## then conovert back to tuple  \n",
    "\n",
    "a=(1,2,3,4,5)\n",
    "print(a)\n",
    "b=list(a)\n",
    "## Adding values\n",
    "b.append(66)\n",
    "a=tuple(b)\n",
    "print (b)"
   ]
  },
  {
   "cell_type": "code",
   "execution_count": 18,
   "id": "6d1390d1",
   "metadata": {},
   "outputs": [
    {
     "name": "stdout",
     "output_type": "stream",
     "text": [
      "(1, 2, 3, 3.4, 4, 5, 6, 7)\n",
      "(1, 2, 3, 4, 5, 6, 7)\n"
     ]
    }
   ],
   "source": [
    "## same for removing the value from Tuple\n",
    "\n",
    "a=(1,2,3,3.4,4,5,6,7)\n",
    "print(a)\n",
    "b=list(a)\n",
    "## removing the value \n",
    "b.remove(3.4)\n",
    "a=tuple(b)\n",
    "print(a)"
   ]
  },
  {
   "cell_type": "code",
   "execution_count": 19,
   "id": "62f7c002",
   "metadata": {},
   "outputs": [
    {
     "name": "stdout",
     "output_type": "stream",
     "text": [
      "apple\n",
      "banana\n",
      "pineapple\n"
     ]
    }
   ],
   "source": [
    "## For loop in Tuple\n",
    "\n",
    "thistuple = (\"apple\",\"banana\",\"pineapple\")\n",
    "for x in thistuple:\n",
    "    print(x)"
   ]
  },
  {
   "cell_type": "code",
   "execution_count": 23,
   "id": "6ec2cfa6",
   "metadata": {},
   "outputs": [
    {
     "name": "stdout",
     "output_type": "stream",
     "text": [
      "set1 (1, 2, 3, 4, 5)\n",
      "set2 (6, 7, 8, 9)\n",
      "(1, 2, 3, 4, 5, 6, 7, 8, 9)\n"
     ]
    }
   ],
   "source": [
    "## Concatenate \n",
    "\n",
    "##adding to tuple\n",
    "\n",
    "a= (1,2,3,4,5)\n",
    "b=(6,7,8,9)\n",
    "c=a+b\n",
    "print(\"set1\",a)\n",
    "print(\"set2\",b)\n",
    "print(c)"
   ]
  },
  {
   "cell_type": "code",
   "execution_count": 27,
   "id": "f63ef3d1",
   "metadata": {},
   "outputs": [
    {
     "name": "stdout",
     "output_type": "stream",
     "text": [
      "('python', 'data', 'code', 'python', 'data', 'code')\n"
     ]
    }
   ],
   "source": [
    "## Multiply\n",
    "\n",
    "a =('python','data','code')\n",
    "b=a*2\n",
    "print(b)"
   ]
  },
  {
   "cell_type": "code",
   "execution_count": 30,
   "id": "0e2848c0",
   "metadata": {},
   "outputs": [
    {
     "name": "stdout",
     "output_type": "stream",
     "text": [
      "Enter the number:23\n",
      "Enter the number:45\n",
      "Enter the number:56\n",
      "Enter the number:67\n",
      "Enter the number:89\n",
      "Enter the number:890\n",
      "(23, 45, 56, 67, 89, 890)\n"
     ]
    }
   ],
   "source": [
    "## WAP to take 5 input for user and add in tuple\n",
    "\n",
    "t=()\n",
    "i=0\n",
    "\n",
    "while(i<=5):\n",
    "    num=(int(input(\"Enter the number:\")))\n",
    "    t=t+(num,)\n",
    "    i=i+1\n",
    "print(t)"
   ]
  }
 ],
 "metadata": {
  "kernelspec": {
   "display_name": "Python 3 (ipykernel)",
   "language": "python",
   "name": "python3"
  },
  "language_info": {
   "codemirror_mode": {
    "name": "ipython",
    "version": 3
   },
   "file_extension": ".py",
   "mimetype": "text/x-python",
   "name": "python",
   "nbconvert_exporter": "python",
   "pygments_lexer": "ipython3",
   "version": "3.11.3"
  }
 },
 "nbformat": 4,
 "nbformat_minor": 5
}
