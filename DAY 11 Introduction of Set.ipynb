{
 "cells": [
  {
   "cell_type": "markdown",
   "id": "1456104c",
   "metadata": {},
   "source": [
    "## DAY 11"
   ]
  },
  {
   "cell_type": "markdown",
   "id": "b72ca54a",
   "metadata": {},
   "source": [
    "Tntro of Sets\n",
    "\n",
    "Sets are used ito store mutiple itmes in a single variable \n",
    "Set is a collection which is unordered unchange able and unindexed"
   ]
  },
  {
   "cell_type": "code",
   "execution_count": 1,
   "id": "0f6463e9",
   "metadata": {},
   "outputs": [
    {
     "name": "stdout",
     "output_type": "stream",
     "text": [
      "{'apple', 'dog', 'ball', 'cat'}\n",
      "<class 'set'>\n"
     ]
    }
   ],
   "source": [
    "## Creating Set\n",
    "\n",
    "a = {'apple','ball','cat','dog'}\n",
    "print(a)\n",
    "print(type(a))"
   ]
  },
  {
   "cell_type": "code",
   "execution_count": 2,
   "id": "64ac0498",
   "metadata": {},
   "outputs": [
    {
     "ename": "TypeError",
     "evalue": "'set' object is not subscriptable",
     "output_type": "error",
     "traceback": [
      "\u001b[1;31m---------------------------------------------------------------------------\u001b[0m",
      "\u001b[1;31mTypeError\u001b[0m                                 Traceback (most recent call last)",
      "Cell \u001b[1;32mIn[2], line 3\u001b[0m\n\u001b[0;32m      1\u001b[0m \u001b[38;5;66;03m##to check set is ordered\u001b[39;00m\n\u001b[1;32m----> 3\u001b[0m \u001b[38;5;28mprint\u001b[39m(a[\u001b[38;5;241m0\u001b[39m])\n",
      "\u001b[1;31mTypeError\u001b[0m: 'set' object is not subscriptable"
     ]
    }
   ],
   "source": [
    "##to check set is ordered\n",
    "\n",
    "print(a[0])"
   ]
  },
  {
   "cell_type": "code",
   "execution_count": 3,
   "id": "0395484f",
   "metadata": {},
   "outputs": [
    {
     "name": "stdout",
     "output_type": "stream",
     "text": [
      "{'apple', 'dog', 'ball', 'cat'}\n"
     ]
    }
   ],
   "source": [
    "## check Set allow Duplicate values \n",
    "b= {'apple','ball','cat','dog','apple','ball','cat','dog'}\n",
    "print(b)"
   ]
  },
  {
   "cell_type": "code",
   "execution_count": 4,
   "id": "9b943e5d",
   "metadata": {},
   "outputs": [
    {
     "name": "stdout",
     "output_type": "stream",
     "text": [
      "4\n",
      "4\n"
     ]
    }
   ],
   "source": [
    "## Get len of the Set \n",
    "\n",
    "print (len(a))\n",
    "print (len(b))"
   ]
  },
  {
   "cell_type": "code",
   "execution_count": 5,
   "id": "b67773e9",
   "metadata": {},
   "outputs": [
    {
     "name": "stdout",
     "output_type": "stream",
     "text": [
      "{1, 2, 3, 4}\n"
     ]
    }
   ],
   "source": [
    "## SET Construct\n",
    "\n",
    "x=set((1,2,3,4))\n",
    "print (x)"
   ]
  },
  {
   "cell_type": "code",
   "execution_count": 6,
   "id": "8d15301c",
   "metadata": {},
   "outputs": [
    {
     "name": "stdout",
     "output_type": "stream",
     "text": [
      "<class 'set'>\n",
      "set()\n",
      "<class 'dict'>\n",
      "{}\n"
     ]
    }
   ],
   "source": [
    "## Creating the Empty Set\n",
    "\n",
    "a=set()\n",
    "print (type(a))\n",
    "print(a)\n",
    "b={}\n",
    "print (type(b))\n",
    "print(b)"
   ]
  },
  {
   "cell_type": "code",
   "execution_count": 7,
   "id": "cf69734b",
   "metadata": {},
   "outputs": [
    {
     "name": "stdout",
     "output_type": "stream",
     "text": [
      "True\n",
      "False\n"
     ]
    }
   ],
   "source": [
    "## Checking if items is present in SET\n",
    "\n",
    "a={'code','data','python'}\n",
    "print('code' in a)\n",
    "print ('ok' in a)"
   ]
  },
  {
   "cell_type": "code",
   "execution_count": 8,
   "id": "a51ac6d1",
   "metadata": {},
   "outputs": [
    {
     "name": "stdout",
     "output_type": "stream",
     "text": [
      "{100, 'dog', 'ball', 'cat', 'apple'}\n"
     ]
    }
   ],
   "source": [
    "## Adding the values in Set \n",
    "\n",
    "a = {'apple','ball','cat','dog'}\n",
    "a.add(100)\n",
    "print (a)"
   ]
  },
  {
   "cell_type": "code",
   "execution_count": 15,
   "id": "975a709d",
   "metadata": {},
   "outputs": [
    {
     "name": "stdout",
     "output_type": "stream",
     "text": [
      "{1, 2, 3, 'a', 4, 'b', 'd', 'c'}\n"
     ]
    }
   ],
   "source": [
    "## update the values in Set\n",
    "\n",
    "a= {'a','b','c','d'}\n",
    "b={1,2,3,4}\n",
    "\n",
    "a.update(b)\n",
    "print(a)"
   ]
  },
  {
   "cell_type": "code",
   "execution_count": 18,
   "id": "eb5c64e9",
   "metadata": {},
   "outputs": [
    {
     "name": "stdout",
     "output_type": "stream",
     "text": [
      "{'apple', 'ball', 'cat'}\n"
     ]
    }
   ],
   "source": [
    "##Removing the items in SET\n",
    "\n",
    "a = {'apple','ball','cat','dog'}\n",
    "a.remove('dog')\n",
    "print(a)"
   ]
  },
  {
   "cell_type": "code",
   "execution_count": 19,
   "id": "7cfb7dc3",
   "metadata": {},
   "outputs": [
    {
     "name": "stdout",
     "output_type": "stream",
     "text": [
      "{'dog', 'ball', 'cat'}\n"
     ]
    }
   ],
   "source": [
    "##POP function is used to remove any items in SET\n",
    "\n",
    "a = {'apple','ball','cat','dog'}\n",
    "a.pop()\n",
    "print(a)"
   ]
  },
  {
   "cell_type": "code",
   "execution_count": 21,
   "id": "b66a32d6",
   "metadata": {},
   "outputs": [
    {
     "name": "stdout",
     "output_type": "stream",
     "text": [
      "set()\n"
     ]
    }
   ],
   "source": [
    "## Clear function is set is used to delete the items in set\n",
    "\n",
    "a = {'apple','ball','cat','dog'}\n",
    "a.clear()\n",
    "print(a)"
   ]
  },
  {
   "cell_type": "code",
   "execution_count": 24,
   "id": "6fef634c",
   "metadata": {},
   "outputs": [
    {
     "name": "stdout",
     "output_type": "stream",
     "text": [
      "{1, 2, 3, 'a', 4, 'b', 'd', 'c'}\n"
     ]
    }
   ],
   "source": [
    "## Joining the set / Update function is same to add the two set\n",
    "## Union fucntion is used it \n",
    "\n",
    "a={\"a\",\"b\",\"c\",'d'}\n",
    "b={1,2,3,4}\n",
    "c=a.union(b)\n",
    "print(c)"
   ]
  },
  {
   "cell_type": "code",
   "execution_count": 28,
   "id": "8693029e",
   "metadata": {},
   "outputs": [
    {
     "name": "stdout",
     "output_type": "stream",
     "text": [
      "394\n",
      "5\n"
     ]
    }
   ],
   "source": [
    "## Min and Max function \n",
    "\n",
    "a={20,394,68,5,44}\n",
    "print(max(a))\n",
    "print(min(a))"
   ]
  },
  {
   "cell_type": "code",
   "execution_count": 31,
   "id": "75243874",
   "metadata": {},
   "outputs": [
    {
     "name": "stdout",
     "output_type": "stream",
     "text": [
      "{44, 5}\n"
     ]
    }
   ],
   "source": [
    "## Return comman values in two set\n",
    "\n",
    "a={20,394,68,5,44}\n",
    "b={23,5,44,264,232}\n",
    "print(a.intersection(b))\n"
   ]
  },
  {
   "cell_type": "code",
   "execution_count": null,
   "id": "1ce01177",
   "metadata": {},
   "outputs": [],
   "source": []
  }
 ],
 "metadata": {
  "kernelspec": {
   "display_name": "Python 3 (ipykernel)",
   "language": "python",
   "name": "python3"
  },
  "language_info": {
   "codemirror_mode": {
    "name": "ipython",
    "version": 3
   },
   "file_extension": ".py",
   "mimetype": "text/x-python",
   "name": "python",
   "nbconvert_exporter": "python",
   "pygments_lexer": "ipython3",
   "version": "3.11.3"
  }
 },
 "nbformat": 4,
 "nbformat_minor": 5
}
