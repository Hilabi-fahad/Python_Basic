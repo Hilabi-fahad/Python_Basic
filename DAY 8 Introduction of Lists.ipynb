{
 "cells": [
  {
   "cell_type": "markdown",
   "id": "7d7c9881",
   "metadata": {},
   "source": [
    "## DAY - 8\n",
    "## Intorduction List \n",
    "\n",
    "Changable\n",
    "Ordable\n",
    "Adding ,Remove , Resevres "
   ]
  },
  {
   "cell_type": "code",
   "execution_count": 1,
   "id": "aff2a2f4",
   "metadata": {},
   "outputs": [
    {
     "name": "stdout",
     "output_type": "stream",
     "text": [
      "[1, 2, 3, 4, 5, 6, 7]\n",
      "<class 'list'>\n"
     ]
    }
   ],
   "source": [
    "list = [1,2,3,4,5,6,7]\n",
    "print(list)\n",
    "print(type(list))"
   ]
  },
  {
   "cell_type": "code",
   "execution_count": 2,
   "id": "1f5e3b10",
   "metadata": {},
   "outputs": [
    {
     "name": "stdout",
     "output_type": "stream",
     "text": [
      "7\n"
     ]
    }
   ],
   "source": [
    "print(len(list))"
   ]
  },
  {
   "cell_type": "markdown",
   "id": "e2881760",
   "metadata": {},
   "source": [
    "## Indexing acces to list "
   ]
  },
  {
   "cell_type": "code",
   "execution_count": 11,
   "id": "6d7bfcf2",
   "metadata": {},
   "outputs": [
    {
     "name": "stdout",
     "output_type": "stream",
     "text": [
      "5\n",
      "[5, 6]\n",
      "[1, 2, 3, 4, 5]\n",
      "[1, 2, 3, 4, 5, 6]\n"
     ]
    }
   ],
   "source": [
    "a =[1,2,3,4,5,6]\n",
    "print(a[4])\n",
    "print(a[4:6])\n",
    "print(a[:5])\n",
    "print(a[:])\n"
   ]
  },
  {
   "cell_type": "markdown",
   "id": "e45dd2a0",
   "metadata": {},
   "source": [
    "Changing items"
   ]
  },
  {
   "cell_type": "code",
   "execution_count": 13,
   "id": "2b1cb11f",
   "metadata": {},
   "outputs": [
    {
     "name": "stdout",
     "output_type": "stream",
     "text": [
      "['apple', 'starberry', 'banana']\n"
     ]
    }
   ],
   "source": [
    "list = ['apple','starberry','cherry']\n",
    "list[2]=\"banana\"\n",
    "print(list)"
   ]
  },
  {
   "cell_type": "code",
   "execution_count": 16,
   "id": "50849682",
   "metadata": {},
   "outputs": [
    {
     "name": "stdout",
     "output_type": "stream",
     "text": [
      "['apple', 'python', 'math']\n"
     ]
    }
   ],
   "source": [
    "list =['apple','starberry','banana']\n",
    "list[1:] = ['python','math']\n",
    "print(list)"
   ]
  },
  {
   "cell_type": "markdown",
   "id": "c60dab63",
   "metadata": {},
   "source": [
    "## Adding in the list "
   ]
  },
  {
   "cell_type": "code",
   "execution_count": 20,
   "id": "4bb76351",
   "metadata": {},
   "outputs": [
    {
     "name": "stdout",
     "output_type": "stream",
     "text": [
      "['apple', 'banana', 45]\n"
     ]
    }
   ],
   "source": [
    "list = ['apple','banana']\n",
    "list.append(45)\n",
    "print(list)"
   ]
  },
  {
   "cell_type": "code",
   "execution_count": 22,
   "id": "e9fae977",
   "metadata": {},
   "outputs": [],
   "source": [
    "list.append('cherry')"
   ]
  },
  {
   "cell_type": "code",
   "execution_count": 23,
   "id": "96403fd2",
   "metadata": {},
   "outputs": [
    {
     "name": "stdout",
     "output_type": "stream",
     "text": [
      "['apple', 'banana', 45, 'cherry']\n"
     ]
    }
   ],
   "source": [
    "print(list)"
   ]
  },
  {
   "cell_type": "markdown",
   "id": "dba05e3a",
   "metadata": {},
   "source": [
    "## Removing in the list "
   ]
  },
  {
   "cell_type": "code",
   "execution_count": 25,
   "id": "a50fd2f4",
   "metadata": {},
   "outputs": [
    {
     "name": "stdout",
     "output_type": "stream",
     "text": [
      "['apple', 'banana', 'cherry']\n"
     ]
    }
   ],
   "source": [
    "list=['apple', 'banana', 45, 'cherry']\n",
    "list.remove(45)\n",
    "print(list)"
   ]
  },
  {
   "cell_type": "markdown",
   "id": "7937224d",
   "metadata": {},
   "source": [
    "## Clear the List element"
   ]
  },
  {
   "cell_type": "code",
   "execution_count": 28,
   "id": "b08a7148",
   "metadata": {},
   "outputs": [],
   "source": [
    "list.clear()\n",
    "print(list)"
   ]
  },
  {
   "cell_type": "markdown",
   "id": "562c7639",
   "metadata": {},
   "source": [
    "## Reverse the list element "
   ]
  },
  {
   "cell_type": "code",
   "execution_count": 32,
   "id": "e4b1029b",
   "metadata": {},
   "outputs": [
    {
     "name": "stdout",
     "output_type": "stream",
     "text": [
      "[6, 5, 4, 3, 2, 1]\n"
     ]
    }
   ],
   "source": [
    "list=[1,2,3,4,5,6]\n",
    "list.reverse()\n",
    "print(list)"
   ]
  },
  {
   "cell_type": "markdown",
   "id": "e7507c57",
   "metadata": {},
   "source": [
    "## Adding the number inthe list "
   ]
  },
  {
   "cell_type": "code",
   "execution_count": 37,
   "id": "c94fa5f1",
   "metadata": {},
   "outputs": [
    {
     "name": "stdout",
     "output_type": "stream",
     "text": [
      "1\n",
      "3\n",
      "6\n",
      "10\n",
      "15\n",
      "21\n",
      "28\n",
      "36\n",
      "70\n",
      "126\n"
     ]
    }
   ],
   "source": [
    "l=[1,2,3,4,5,6,7,8,34,56]\n",
    "a=0\n",
    "for i in range(10):\n",
    "    a =a +l[i]\n",
    "    i=i+1\n",
    "    print(a)"
   ]
  },
  {
   "cell_type": "code",
   "execution_count": null,
   "id": "56b50467",
   "metadata": {},
   "outputs": [],
   "source": []
  }
 ],
 "metadata": {
  "kernelspec": {
   "display_name": "Python 3 (ipykernel)",
   "language": "python",
   "name": "python3"
  },
  "language_info": {
   "codemirror_mode": {
    "name": "ipython",
    "version": 3
   },
   "file_extension": ".py",
   "mimetype": "text/x-python",
   "name": "python",
   "nbconvert_exporter": "python",
   "pygments_lexer": "ipython3",
   "version": "3.11.3"
  }
 },
 "nbformat": 4,
 "nbformat_minor": 5
}
