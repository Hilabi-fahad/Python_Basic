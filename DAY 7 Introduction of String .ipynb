{
 "cells": [
  {
   "cell_type": "markdown",
   "id": "9ba936e1",
   "metadata": {},
   "source": [
    "## DAY -7"
   ]
  },
  {
   "cell_type": "markdown",
   "id": "51705047",
   "metadata": {},
   "source": [
    "Introduction to String "
   ]
  },
  {
   "cell_type": "code",
   "execution_count": 32,
   "id": "27a2345a",
   "metadata": {},
   "outputs": [],
   "source": [
    "a= \"Hello Student how are you \"\n",
    "b = \"Hello World \""
   ]
  },
  {
   "cell_type": "code",
   "execution_count": 33,
   "id": "3c5dba8d",
   "metadata": {},
   "outputs": [
    {
     "name": "stdout",
     "output_type": "stream",
     "text": [
      "Hello \n",
      "Hello Student ho\n",
      "Hello Student how are you \n",
      "HloSuethwaeyu\n"
     ]
    }
   ],
   "source": [
    "print(a[:6])\n",
    "print(a[:16])\n",
    "print(a[0:])\n",
    "print(a[::2])"
   ]
  },
  {
   "cell_type": "markdown",
   "id": "9cfd3e93",
   "metadata": {},
   "source": [
    "Revrerse Sentance "
   ]
  },
  {
   "cell_type": "code",
   "execution_count": 34,
   "id": "4f2008a1",
   "metadata": {
    "scrolled": true
   },
   "outputs": [
    {
     "name": "stdout",
     "output_type": "stream",
     "text": [
      " uoy era woh tnedutS olleH\n"
     ]
    }
   ],
   "source": [
    "print (a[::-1])"
   ]
  },
  {
   "cell_type": "markdown",
   "id": "fc6942b8",
   "metadata": {},
   "source": [
    "Find the length"
   ]
  },
  {
   "cell_type": "code",
   "execution_count": 35,
   "id": "51ce98cd",
   "metadata": {},
   "outputs": [
    {
     "name": "stdout",
     "output_type": "stream",
     "text": [
      "26\n"
     ]
    }
   ],
   "source": [
    "print(len(a))"
   ]
  },
  {
   "cell_type": "markdown",
   "id": "01904c02",
   "metadata": {},
   "source": [
    "Upper case"
   ]
  },
  {
   "cell_type": "code",
   "execution_count": 36,
   "id": "85f927c2",
   "metadata": {},
   "outputs": [
    {
     "name": "stdout",
     "output_type": "stream",
     "text": [
      "HELLO STUDENT HOW ARE YOU \n"
     ]
    }
   ],
   "source": [
    "print(a.upper())"
   ]
  },
  {
   "cell_type": "markdown",
   "id": "92c3e94f",
   "metadata": {},
   "source": [
    "lower case"
   ]
  },
  {
   "cell_type": "code",
   "execution_count": 37,
   "id": "16215d47",
   "metadata": {},
   "outputs": [
    {
     "name": "stdout",
     "output_type": "stream",
     "text": [
      "hello student how are you \n"
     ]
    }
   ],
   "source": [
    "print(a.lower())"
   ]
  },
  {
   "cell_type": "markdown",
   "id": "ef633b44",
   "metadata": {},
   "source": [
    "replace "
   ]
  },
  {
   "cell_type": "markdown",
   "id": "c5a18330",
   "metadata": {},
   "source": [
    "find option "
   ]
  },
  {
   "cell_type": "code",
   "execution_count": 38,
   "id": "9ad4b5f0",
   "metadata": {},
   "outputs": [
    {
     "name": "stdout",
     "output_type": "stream",
     "text": [
      "python is good\n",
      "python is very good\n"
     ]
    }
   ],
   "source": [
    "a =\"python is good\"\n",
    "print(a)\n",
    "print(a.replace(\"good\",\"very good\"))"
   ]
  },
  {
   "cell_type": "code",
   "execution_count": 39,
   "id": "f06279ae",
   "metadata": {},
   "outputs": [
    {
     "name": "stdout",
     "output_type": "stream",
     "text": [
      "10\n"
     ]
    }
   ],
   "source": [
    "a =\"python is great\"\n",
    "b=a.find(\"g\")\n",
    "print(b)"
   ]
  },
  {
   "cell_type": "code",
   "execution_count": null,
   "id": "5f27056a",
   "metadata": {},
   "outputs": [],
   "source": []
  }
 ],
 "metadata": {
  "kernelspec": {
   "display_name": "Python 3 (ipykernel)",
   "language": "python",
   "name": "python3"
  },
  "language_info": {
   "codemirror_mode": {
    "name": "ipython",
    "version": 3
   },
   "file_extension": ".py",
   "mimetype": "text/x-python",
   "name": "python",
   "nbconvert_exporter": "python",
   "pygments_lexer": "ipython3",
   "version": "3.11.3"
  }
 },
 "nbformat": 4,
 "nbformat_minor": 5
}
