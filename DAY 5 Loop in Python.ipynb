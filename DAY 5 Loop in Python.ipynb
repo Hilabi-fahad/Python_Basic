{
 "cells": [
  {
   "cell_type": "markdown",
   "id": "cd914a7a",
   "metadata": {},
   "source": [
    "## while and for loop "
   ]
  },
  {
   "cell_type": "code",
   "execution_count": 5,
   "id": "b3b7f65b",
   "metadata": {},
   "outputs": [
    {
     "name": "stdout",
     "output_type": "stream",
     "text": [
      "1\n",
      "2\n",
      "3\n",
      "4\n",
      "5\n"
     ]
    }
   ],
   "source": [
    "i=1\n",
    "\n",
    "while i<=5:\n",
    "    print(i)\n",
    "    i=i+1"
   ]
  },
  {
   "cell_type": "code",
   "execution_count": 7,
   "id": "a1e74367",
   "metadata": {},
   "outputs": [
    {
     "name": "stdout",
     "output_type": "stream",
     "text": [
      "Enter the number4\n",
      "4\n",
      "8\n",
      "12\n",
      "16\n",
      "20\n",
      "24\n",
      "28\n",
      "32\n",
      "36\n",
      "40\n"
     ]
    }
   ],
   "source": [
    "x =int(input('Enter the number'))\n",
    "i=1\n",
    "while i<=10:\n",
    "    print(i*x)\n",
    "    i=i+1"
   ]
  },
  {
   "cell_type": "code",
   "execution_count": 10,
   "id": "2dcbde75",
   "metadata": {},
   "outputs": [
    {
     "name": "stdout",
     "output_type": "stream",
     "text": [
      "Hello World\n",
      "Hello World\n",
      "Hello World\n",
      "Hello World\n",
      "End\n"
     ]
    }
   ],
   "source": [
    "i=0\n",
    "while i<4:\n",
    "    print(\"Hello World\")\n",
    "    i=i+1\n",
    "else:\n",
    "    print(\"End\")"
   ]
  },
  {
   "cell_type": "markdown",
   "id": "51e9e839",
   "metadata": {},
   "source": [
    "## For loop"
   ]
  },
  {
   "cell_type": "code",
   "execution_count": 13,
   "id": "1fc2df0d",
   "metadata": {},
   "outputs": [
    {
     "name": "stdout",
     "output_type": "stream",
     "text": [
      "apple\n",
      "banana\n",
      "cherry\n"
     ]
    }
   ],
   "source": [
    "fruit =('apple','banana','cherry')\n",
    "for i in fruit:\n",
    "    print(i)"
   ]
  },
  {
   "cell_type": "code",
   "execution_count": 16,
   "id": "3c15da7c",
   "metadata": {},
   "outputs": [
    {
     "name": "stdout",
     "output_type": "stream",
     "text": [
      "a p p l e "
     ]
    }
   ],
   "source": [
    "for i in 'apple':\n",
    "    print(i,end=' ')"
   ]
  },
  {
   "cell_type": "code",
   "execution_count": 17,
   "id": "9d7665a0",
   "metadata": {},
   "outputs": [
    {
     "name": "stdout",
     "output_type": "stream",
     "text": [
      "a\n",
      "p\n",
      "p\n",
      "l\n",
      "e\n"
     ]
    }
   ],
   "source": [
    "for i in 'apple':\n",
    "    print(i)"
   ]
  },
  {
   "cell_type": "markdown",
   "id": "25a3a8bc",
   "metadata": {},
   "source": [
    "## Range for number"
   ]
  },
  {
   "cell_type": "code",
   "execution_count": 19,
   "id": "217782f7",
   "metadata": {},
   "outputs": [
    {
     "name": "stdout",
     "output_type": "stream",
     "text": [
      "0\n",
      "1\n",
      "2\n",
      "3\n",
      "4\n",
      "5\n",
      "6\n",
      "7\n",
      "8\n",
      "9\n",
      "10\n",
      "11\n",
      "12\n",
      "13\n",
      "14\n"
     ]
    }
   ],
   "source": [
    "for i in range(15):\n",
    "    print(i)"
   ]
  },
  {
   "cell_type": "code",
   "execution_count": 30,
   "id": "57ebbeb3",
   "metadata": {},
   "outputs": [
    {
     "name": "stdout",
     "output_type": "stream",
     "text": [
      "enter the number56\n",
      "56 * 1 = 56\n",
      "56 * 2 = 112\n",
      "56 * 3 = 168\n",
      "56 * 4 = 224\n",
      "56 * 5 = 280\n",
      "56 * 6 = 336\n",
      "56 * 7 = 392\n",
      "56 * 8 = 448\n",
      "56 * 9 = 504\n",
      "56 * 10 = 560\n"
     ]
    }
   ],
   "source": [
    "n=int(input('enter the number'))\n",
    "for i in range(1,11):\n",
    "    print(n,'*',i ,'=',i*n)"
   ]
  },
  {
   "cell_type": "code",
   "execution_count": 32,
   "id": "9347d4fe",
   "metadata": {},
   "outputs": [
    {
     "name": "stdout",
     "output_type": "stream",
     "text": [
      "2\n",
      "7\n",
      "12\n",
      "17\n",
      "22\n"
     ]
    }
   ],
   "source": [
    "for i in range(2,24,5):\n",
    "    print(i)"
   ]
  },
  {
   "cell_type": "code",
   "execution_count": 70,
   "id": "eac80a62",
   "metadata": {},
   "outputs": [
    {
     "name": "stdout",
     "output_type": "stream",
     "text": [
      "p\n",
      "y\n",
      "t\n",
      "h\n",
      "o\n",
      "n\n"
     ]
    }
   ],
   "source": [
    "for i in \"python\":\n",
    "    print(i)"
   ]
  },
  {
   "cell_type": "code",
   "execution_count": 42,
   "id": "9dd494f6",
   "metadata": {},
   "outputs": [
    {
     "name": "stdout",
     "output_type": "stream",
     "text": [
      "1 Odd number\n",
      "2 Even number\n",
      "3 Odd number\n",
      "4 Even number\n",
      "5 Odd number\n",
      "6 Even number\n",
      "7 Odd number\n",
      "totoal even number 3\n",
      "totoal even number 4\n"
     ]
    }
   ],
   "source": [
    "number =(1,2,3,4,5,6,7)\n",
    "odd_count = 0\n",
    "even_count = 0\n",
    "\n",
    "for i in number:\n",
    "    \n",
    "    if i%2 == 0:\n",
    "        print(i,'Even number')\n",
    "        even_count+=1\n",
    "    else:\n",
    "        print(i,'Odd number')\n",
    "        odd_count+=1\n",
    "print('totoal even number',even_count)\n",
    "print('totoal even number',odd_count)"
   ]
  },
  {
   "cell_type": "code",
   "execution_count": 47,
   "id": "e71b02ba",
   "metadata": {
    "scrolled": true
   },
   "outputs": [
    {
     "name": "stdout",
     "output_type": "stream",
     "text": [
      "1 Odd number\n",
      "2 Even number\n",
      "3 Odd number\n",
      "4 Even number\n",
      "5 Odd number\n",
      "6 Even number\n",
      "7 Odd number\n",
      "8 Even number\n",
      "totoal even number 4\n",
      "totoal even number 4\n"
     ]
    }
   ],
   "source": [
    "i=1\n",
    "odd_count = 0\n",
    "even_count = 0\n",
    "while i<=8:\n",
    "    \n",
    "    if i%2 == 0:\n",
    "        print(i,'Even number')\n",
    "        even_count+=1\n",
    "    else:\n",
    "        print(i,'Odd number')\n",
    "        odd_count+=1\n",
    "    i+=1\n",
    "print('totoal even number',even_count)\n",
    "print('totoal even number',odd_count)"
   ]
  },
  {
   "cell_type": "markdown",
   "id": "2c9e4df8",
   "metadata": {},
   "source": [
    "## Number and chars Resevre"
   ]
  },
  {
   "cell_type": "code",
   "execution_count": 69,
   "id": "3c0f8684",
   "metadata": {},
   "outputs": [
    {
     "name": "stdout",
     "output_type": "stream",
     "text": [
      "Enter the word34567\n",
      "7 6 5 4 3 "
     ]
    }
   ],
   "source": [
    "\n",
    "word = input('Enter the word')\n",
    "for char in range(len(word) -1, -1, -1):\n",
    "    print(word[char],end=\" \")\n"
   ]
  },
  {
   "cell_type": "markdown",
   "id": "040ecaed",
   "metadata": {},
   "source": [
    "## Break and Contiune"
   ]
  },
  {
   "cell_type": "code",
   "execution_count": 49,
   "id": "65dd51a7",
   "metadata": {},
   "outputs": [
    {
     "name": "stdout",
     "output_type": "stream",
     "text": [
      "1\n",
      "2\n",
      "3\n",
      "4\n",
      "5\n",
      "6\n",
      "We found it 7\n"
     ]
    }
   ],
   "source": [
    "for i in range (1,10):\n",
    "    if i == 7:\n",
    "        print('We found it',i)\n",
    "        break\n",
    "    print(i)\n"
   ]
  },
  {
   "cell_type": "code",
   "execution_count": 52,
   "id": "75e353ee",
   "metadata": {},
   "outputs": [
    {
     "name": "stdout",
     "output_type": "stream",
     "text": [
      "2\n",
      "3\n",
      "4\n",
      "5\n",
      "6\n",
      "7\n",
      "8\n"
     ]
    }
   ],
   "source": [
    "for i in range(2,9):\n",
    "    print(i)\n",
    "    if i==5:\n",
    "        continue"
   ]
  },
  {
   "cell_type": "code",
   "execution_count": 55,
   "id": "a805b7ed",
   "metadata": {},
   "outputs": [
    {
     "name": "stdout",
     "output_type": "stream",
     "text": [
      "5\n"
     ]
    }
   ],
   "source": [
    "for i in range(2,9):\n",
    "    if i==5:\n",
    "        print(i)\n",
    "        continue"
   ]
  },
  {
   "cell_type": "code",
   "execution_count": null,
   "id": "87791300",
   "metadata": {},
   "outputs": [],
   "source": []
  }
 ],
 "metadata": {
  "kernelspec": {
   "display_name": "Python 3 (ipykernel)",
   "language": "python",
   "name": "python3"
  },
  "language_info": {
   "codemirror_mode": {
    "name": "ipython",
    "version": 3
   },
   "file_extension": ".py",
   "mimetype": "text/x-python",
   "name": "python",
   "nbconvert_exporter": "python",
   "pygments_lexer": "ipython3",
   "version": "3.11.3"
  }
 },
 "nbformat": 4,
 "nbformat_minor": 5
}
