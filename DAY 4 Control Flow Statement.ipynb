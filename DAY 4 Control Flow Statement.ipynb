{
 "cells": [
  {
   "cell_type": "markdown",
   "id": "a2e7cdbd",
   "metadata": {},
   "source": [
    "## DAY 4\n",
    "\n",
    "Control Flow  / IF condition"
   ]
  },
  {
   "cell_type": "markdown",
   "id": "f06572b1",
   "metadata": {},
   "source": [
    "WAP 3 angle of trinalge are entered and check whether enterned value are valid or not "
   ]
  },
  {
   "cell_type": "code",
   "execution_count": null,
   "id": "3df494f5",
   "metadata": {},
   "outputs": [],
   "source": [
    "a = int(input('enter the the 1 angle value:'))\n",
    "b = int(input('enter the the 2 angle value:'))\n",
    "c = int(input('enter the the 3 angle value:'))\n",
    "\n",
    "n = a+b+c\n",
    "\n",
    "if n == 180:\n",
    "    print('It is an Triangle')\n",
    "else:\n",
    "    print('it is not Triangle')\n",
    "    "
   ]
  },
  {
   "cell_type": "markdown",
   "id": "448764c4",
   "metadata": {},
   "source": [
    "WAP to disaplay if the number is postive or negative"
   ]
  },
  {
   "cell_type": "code",
   "execution_count": null,
   "id": "c9c57136",
   "metadata": {},
   "outputs": [],
   "source": [
    "a =int(input('Enter the number'))\n",
    "\n",
    "if a>=0:\n",
    "    print('It is a positive number')\n",
    "else:\n",
    "    print('IT is a negative number')"
   ]
  },
  {
   "cell_type": "markdown",
   "id": "3740c7cd",
   "metadata": {},
   "source": [
    "WAP enter 2 value from the suer and find out max of value entered"
   ]
  },
  {
   "cell_type": "code",
   "execution_count": 2,
   "id": "42d3cfc7",
   "metadata": {},
   "outputs": [
    {
     "name": "stdout",
     "output_type": "stream",
     "text": [
      "Enter the number in A :60\n",
      "Enter the number in B :59\n",
      "A is greater than B 60 59\n"
     ]
    }
   ],
   "source": [
    "a = int(input('Enter the number in A :'))\n",
    "b = int(input('Enter the number in B :'))\n",
    "\n",
    "if a>b:\n",
    "    print('A is greater than B', a , b )\n",
    "else:\n",
    "    print('B is greater than A', b , a )"
   ]
  },
  {
   "cell_type": "markdown",
   "id": "aca81297",
   "metadata": {},
   "source": [
    "## IF - ELIF -ELSE Statment "
   ]
  },
  {
   "cell_type": "markdown",
   "id": "826cb0d4",
   "metadata": {},
   "source": [
    "Accept city name and diplay its monument "
   ]
  },
  {
   "cell_type": "code",
   "execution_count": 6,
   "id": "5f21ddb6",
   "metadata": {},
   "outputs": [
    {
     "name": "stdout",
     "output_type": "stream",
     "text": [
      "Enter the City name Delhi\n",
      "it monument in Delhi is Red Fort\n"
     ]
    }
   ],
   "source": [
    "city =input('Enter the City name ')\n",
    "\n",
    "if city== 'Delhi':\n",
    "    print('it monument in Delhi is Red Fort')\n",
    "elif city == 'Agra':\n",
    "    print('it monument in Agra is Taj Mahal')\n",
    "elif city == 'Jaipur':\n",
    "    print('it monument in Jaipur is JAL Mahal')\n",
    "elif city == 'orissa':\n",
    "    print('it monument in Orissa is Konak Temple')\n",
    "elif city == 'Hyderabad':\n",
    "    print('it monument is Hyderabad is Charimar')\n",
    "else:\n",
    "    print ('Record not found')"
   ]
  },
  {
   "cell_type": "code",
   "execution_count": null,
   "id": "e9844cb6",
   "metadata": {},
   "outputs": [],
   "source": []
  }
 ],
 "metadata": {
  "kernelspec": {
   "display_name": "Python 3 (ipykernel)",
   "language": "python",
   "name": "python3"
  },
  "language_info": {
   "codemirror_mode": {
    "name": "ipython",
    "version": 3
   },
   "file_extension": ".py",
   "mimetype": "text/x-python",
   "name": "python",
   "nbconvert_exporter": "python",
   "pygments_lexer": "ipython3",
   "version": "3.11.3"
  }
 },
 "nbformat": 4,
 "nbformat_minor": 5
}
