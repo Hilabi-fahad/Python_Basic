{
 "cells": [
  {
   "cell_type": "markdown",
   "id": "cb751dbc",
   "metadata": {},
   "source": [
    "## Built - in Function of Python"
   ]
  },
  {
   "cell_type": "markdown",
   "id": "fce396c1",
   "metadata": {},
   "source": [
    "## Abs() Function\n",
    "The abs() function return the absolute value of the specified number"
   ]
  },
  {
   "cell_type": "code",
   "execution_count": 4,
   "id": "ee911ca4",
   "metadata": {},
   "outputs": [
    {
     "name": "stdout",
     "output_type": "stream",
     "text": [
      "23\n"
     ]
    }
   ],
   "source": [
    "a = abs(-23)\n",
    "print(a)"
   ]
  },
  {
   "cell_type": "code",
   "execution_count": 5,
   "id": "5ceac441",
   "metadata": {},
   "outputs": [
    {
     "name": "stdout",
     "output_type": "stream",
     "text": [
      "3.605551275463989\n"
     ]
    }
   ],
   "source": [
    "b = abs(2+3j)\n",
    "print(b)"
   ]
  },
  {
   "cell_type": "markdown",
   "id": "18ac6b19",
   "metadata": {},
   "source": [
    "## BIN Function \n",
    "The bin() functio retunr the binary version of a specified integer"
   ]
  },
  {
   "cell_type": "code",
   "execution_count": 7,
   "id": "6eb5812c",
   "metadata": {},
   "outputs": [
    {
     "name": "stdout",
     "output_type": "stream",
     "text": [
      "0b1010\n"
     ]
    }
   ],
   "source": [
    "x = bin(10)\n",
    "print(x)"
   ]
  },
  {
   "cell_type": "code",
   "execution_count": 8,
   "id": "381927f9",
   "metadata": {},
   "outputs": [
    {
     "name": "stdout",
     "output_type": "stream",
     "text": [
      "0b100100\n"
     ]
    }
   ],
   "source": [
    "a = bin(36)\n",
    "print(a)"
   ]
  },
  {
   "cell_type": "markdown",
   "id": "89eb898d",
   "metadata": {},
   "source": [
    "## Bytes() Function\n",
    "\n",
    "The bytes function retunr a bytes object\n"
   ]
  },
  {
   "cell_type": "code",
   "execution_count": 9,
   "id": "f6e2d5fc",
   "metadata": {},
   "outputs": [
    {
     "name": "stdout",
     "output_type": "stream",
     "text": [
      "b'\\x00\\x00\\x00\\x00'\n"
     ]
    }
   ],
   "source": [
    "x = bytes(4)\n",
    "print(x)"
   ]
  },
  {
   "cell_type": "code",
   "execution_count": 11,
   "id": "a5741aa9",
   "metadata": {},
   "outputs": [
    {
     "name": "stdout",
     "output_type": "stream",
     "text": [
      "b'\\x00\\x00\\x00\\x00\\x00\\x00\\x00\\x00\\x00\\x00\\x00\\x00\\x00\\x00\\x00\\x00'\n"
     ]
    }
   ],
   "source": [
    "x =bytes(16)\n",
    "print(x)"
   ]
  },
  {
   "cell_type": "markdown",
   "id": "844af9ac",
   "metadata": {},
   "source": [
    "## Chr() Function \n",
    "\n",
    "The chr() function return the character that represent the specified unicode"
   ]
  },
  {
   "cell_type": "code",
   "execution_count": 13,
   "id": "69259204",
   "metadata": {},
   "outputs": [
    {
     "name": "stdout",
     "output_type": "stream",
     "text": [
      "a\n"
     ]
    }
   ],
   "source": [
    "x =chr(97)\n",
    "print(x)"
   ]
  },
  {
   "cell_type": "code",
   "execution_count": 14,
   "id": "e5fc088e",
   "metadata": {},
   "outputs": [
    {
     "name": "stdout",
     "output_type": "stream",
     "text": [
      "c\n"
     ]
    }
   ],
   "source": [
    "a = chr(99)\n",
    "print(a)"
   ]
  },
  {
   "cell_type": "code",
   "execution_count": null,
   "id": "67dca44a",
   "metadata": {},
   "outputs": [],
   "source": []
  }
 ],
 "metadata": {
  "kernelspec": {
   "display_name": "Python 3 (ipykernel)",
   "language": "python",
   "name": "python3"
  },
  "language_info": {
   "codemirror_mode": {
    "name": "ipython",
    "version": 3
   },
   "file_extension": ".py",
   "mimetype": "text/x-python",
   "name": "python",
   "nbconvert_exporter": "python",
   "pygments_lexer": "ipython3",
   "version": "3.11.3"
  }
 },
 "nbformat": 4,
 "nbformat_minor": 5
}
