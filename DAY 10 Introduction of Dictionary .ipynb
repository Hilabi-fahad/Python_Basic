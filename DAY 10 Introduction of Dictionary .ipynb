{
 "cells": [
  {
   "cell_type": "markdown",
   "id": "b5ef7cce",
   "metadata": {},
   "source": [
    "## DAY 10"
   ]
  },
  {
   "cell_type": "markdown",
   "id": "f5c990ae",
   "metadata": {},
   "source": [
    "Concept of Dictionary \n",
    "\n",
    "are used to store data values in key  :value pairs\n",
    "are ordered , changeable and does not have the duplicate values "
   ]
  },
  {
   "cell_type": "code",
   "execution_count": 2,
   "id": "6c68ddd6",
   "metadata": {},
   "outputs": [
    {
     "name": "stdout",
     "output_type": "stream",
     "text": [
      "{'ID': 2613, 'NAME': 'Fahad Hilabi', 'year': 2021}\n",
      "<class 'dict'>\n"
     ]
    }
   ],
   "source": [
    "## creating dict \n",
    "a={\n",
    "    \"ID\": 2613,\n",
    "    \"NAME\":\"Fahad Hilabi\",\n",
    "    \"year\":2021,\n",
    "}\n",
    "print(a)\n",
    "print(type(a))"
   ]
  },
  {
   "cell_type": "code",
   "execution_count": 7,
   "id": "832d179e",
   "metadata": {},
   "outputs": [
    {
     "name": "stdout",
     "output_type": "stream",
     "text": [
      "2613\n"
     ]
    }
   ],
   "source": [
    "## to check if dict is ordered or unordered\n",
    "print(a['ID'])"
   ]
  },
  {
   "cell_type": "code",
   "execution_count": 9,
   "id": "270d581b",
   "metadata": {},
   "outputs": [
    {
     "name": "stdout",
     "output_type": "stream",
     "text": [
      "3\n"
     ]
    }
   ],
   "source": [
    "##lenght of Dict\n",
    "print(len(a))"
   ]
  },
  {
   "cell_type": "code",
   "execution_count": 13,
   "id": "63712d0d",
   "metadata": {},
   "outputs": [
    {
     "name": "stdout",
     "output_type": "stream",
     "text": [
      "2021\n",
      "2021\n"
     ]
    }
   ],
   "source": [
    "## Fetching value from Dict \n",
    "\n",
    "print(a['year'])\n",
    "## proper data way to fetching in dict\n",
    "print(a.get('year'))"
   ]
  },
  {
   "cell_type": "code",
   "execution_count": 16,
   "id": "a4c8c938",
   "metadata": {},
   "outputs": [
    {
     "name": "stdout",
     "output_type": "stream",
     "text": [
      "dict_keys(['ID', 'NAME', 'year'])\n"
     ]
    }
   ],
   "source": [
    "## Fetching Key in Dict\n",
    "\n",
    "x=a.keys()\n",
    "print(x)"
   ]
  },
  {
   "cell_type": "code",
   "execution_count": 17,
   "id": "1316fc73",
   "metadata": {},
   "outputs": [
    {
     "name": "stdout",
     "output_type": "stream",
     "text": [
      "dict_values([2613, 'Fahad Hilabi', 2021])\n"
     ]
    }
   ],
   "source": [
    "## Fetching calues in Dist\n",
    "b=a.values()\n",
    "print(b)"
   ]
  },
  {
   "cell_type": "code",
   "execution_count": 3,
   "id": "c5defef1",
   "metadata": {},
   "outputs": [
    {
     "name": "stdout",
     "output_type": "stream",
     "text": [
      "{'ID': 2613, 'NAME': 'Fahad Hilabi', 'year': 2022}\n"
     ]
    }
   ],
   "source": [
    "## Changing the value in Dist\n",
    "\n",
    "a['year'] = 2022\n",
    "print(a)"
   ]
  },
  {
   "cell_type": "code",
   "execution_count": 5,
   "id": "3db4e6ab",
   "metadata": {},
   "outputs": [
    {
     "name": "stdout",
     "output_type": "stream",
     "text": [
      "{'ID': 2613, 'NAME': 'Fahad Hilabi', 'year': 2022, 'B_date': 1995}\n"
     ]
    }
   ],
   "source": [
    "## Adding/ upadeting the key in dist\n",
    "\n",
    "a.update({'B_date':1995})\n",
    "print(a)"
   ]
  },
  {
   "cell_type": "code",
   "execution_count": 8,
   "id": "5b595607",
   "metadata": {},
   "outputs": [
    {
     "name": "stdout",
     "output_type": "stream",
     "text": [
      "{'NAME': 'Fahad Hilabi', 'year': 2022, 'B_date': 1995}\n"
     ]
    }
   ],
   "source": [
    "## Removing the key and value from the Dist \n",
    "\n",
    "a.pop('ID')\n",
    "print(a)"
   ]
  },
  {
   "cell_type": "code",
   "execution_count": 9,
   "id": "a8ad63bf",
   "metadata": {},
   "outputs": [
    {
     "name": "stdout",
     "output_type": "stream",
     "text": [
      "{}\n"
     ]
    }
   ],
   "source": [
    "## Clear Key and value from the dist\n",
    "\n",
    "a.clear()\n",
    "print (a)"
   ]
  },
  {
   "cell_type": "code",
   "execution_count": 13,
   "id": "fe81619c",
   "metadata": {},
   "outputs": [
    {
     "name": "stdout",
     "output_type": "stream",
     "text": [
      "{1: 10, 2: 20}\n",
      "{1: 10, 2: 20, 3: 30, 4: 40}\n",
      "{1: 10, 2: 20, 3: 30, 4: 40, 5: 50, 6: 60}\n"
     ]
    }
   ],
   "source": [
    "## Concatenate in Dist \n",
    "\n",
    "dict1={1:10,2:20}\n",
    "dict2={3:30,4:40}\n",
    "dict3={5:50,6:60}\n",
    "dict4={}\n",
    "\n",
    "for x in (dict1,dict2,dict3):\n",
    "    dict4.update(x)\n",
    "\n",
    "    print(dict4)"
   ]
  },
  {
   "cell_type": "code",
   "execution_count": null,
   "id": "529df645",
   "metadata": {},
   "outputs": [],
   "source": []
  },
  {
   "cell_type": "code",
   "execution_count": null,
   "id": "99e6b0ed",
   "metadata": {},
   "outputs": [],
   "source": []
  }
 ],
 "metadata": {
  "kernelspec": {
   "display_name": "Python 3 (ipykernel)",
   "language": "python",
   "name": "python3"
  },
  "language_info": {
   "codemirror_mode": {
    "name": "ipython",
    "version": 3
   },
   "file_extension": ".py",
   "mimetype": "text/x-python",
   "name": "python",
   "nbconvert_exporter": "python",
   "pygments_lexer": "ipython3",
   "version": "3.11.3"
  }
 },
 "nbformat": 4,
 "nbformat_minor": 5
}
