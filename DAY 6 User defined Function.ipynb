{
 "cells": [
  {
   "cell_type": "code",
   "execution_count": 24,
   "id": "77a2c759",
   "metadata": {},
   "outputs": [],
   "source": [
    "def my_function():\n",
    "    print('Hello World')"
   ]
  },
  {
   "cell_type": "code",
   "execution_count": 26,
   "id": "0b528e14",
   "metadata": {},
   "outputs": [
    {
     "name": "stdout",
     "output_type": "stream",
     "text": [
      "Hello World\n"
     ]
    }
   ],
   "source": [
    "my_function()"
   ]
  },
  {
   "cell_type": "code",
   "execution_count": 30,
   "id": "f43bb87f",
   "metadata": {},
   "outputs": [
    {
     "ename": "IndentationError",
     "evalue": "expected an indented block after 'for' statement on line 2 (1517597893.py, line 3)",
     "output_type": "error",
     "traceback": [
      "\u001b[1;36m  Cell \u001b[1;32mIn[30], line 3\u001b[1;36m\u001b[0m\n\u001b[1;33m    word = input('Enter the word')\u001b[0m\n\u001b[1;37m    ^\u001b[0m\n\u001b[1;31mIndentationError\u001b[0m\u001b[1;31m:\u001b[0m expected an indented block after 'for' statement on line 2\n"
     ]
    }
   ],
   "source": [
    "for i in range(6):\n",
    "    word = input('Enter the word')\n",
    "for char in range(len(word) -1, -1, -1):\n",
    "    print(word[char],end=\" \")"
   ]
  },
  {
   "cell_type": "code",
   "execution_count": 39,
   "id": "5eb556ba",
   "metadata": {},
   "outputs": [],
   "source": [
    "def my_support(name):\n",
    "    print(name +' '+ \"hilabi\")"
   ]
  },
  {
   "cell_type": "code",
   "execution_count": 40,
   "id": "400e0da4",
   "metadata": {},
   "outputs": [
    {
     "name": "stdout",
     "output_type": "stream",
     "text": [
      "fahad hilabi\n"
     ]
    }
   ],
   "source": [
    "my_support('fahad')"
   ]
  },
  {
   "cell_type": "code",
   "execution_count": 41,
   "id": "fe54a537",
   "metadata": {},
   "outputs": [],
   "source": [
    "def my(fname , lname):\n",
    "    print(fname +' '+ lname)"
   ]
  },
  {
   "cell_type": "code",
   "execution_count": 42,
   "id": "7463c57f",
   "metadata": {},
   "outputs": [
    {
     "name": "stdout",
     "output_type": "stream",
     "text": [
      "fahad hilabi\n"
     ]
    }
   ],
   "source": [
    "my('fahad','hilabi')"
   ]
  },
  {
   "cell_type": "code",
   "execution_count": 44,
   "id": "2300eb18",
   "metadata": {},
   "outputs": [
    {
     "name": "stdout",
     "output_type": "stream",
     "text": [
      "Enter the wordhdfs\n",
      "Enter the wordsdsg\n",
      "Enter the wordsgd\n"
     ]
    }
   ],
   "source": [
    "for i in range (3):\n",
    "    word = input('Enter the word')\n",
    "for char in range(len(word) -1, -1, -1):\n",
    "    print(word[char],end=\" \")"
   ]
  },
  {
   "cell_type": "code",
   "execution_count": null,
   "id": "77770e09",
   "metadata": {},
   "outputs": [],
   "source": []
  }
 ],
 "metadata": {
  "kernelspec": {
   "display_name": "Python 3 (ipykernel)",
   "language": "python",
   "name": "python3"
  },
  "language_info": {
   "codemirror_mode": {
    "name": "ipython",
    "version": 3
   },
   "file_extension": ".py",
   "mimetype": "text/x-python",
   "name": "python",
   "nbconvert_exporter": "python",
   "pygments_lexer": "ipython3",
   "version": "3.11.3"
  }
 },
 "nbformat": 4,
 "nbformat_minor": 5
}
