{
 "cells": [
  {
   "cell_type": "markdown",
   "id": "d7e50fcd",
   "metadata": {},
   "source": [
    "## Exception Handling \n",
    "\n",
    "An event whicih occurs dring the execution of a program that disrupt the normal flow of the prgram instruction "
   ]
  },
  {
   "cell_type": "code",
   "execution_count": 1,
   "id": "d9f90039",
   "metadata": {
    "scrolled": false
   },
   "outputs": [
    {
     "name": "stdout",
     "output_type": "stream",
     "text": [
      "Enter the number1\n",
      "23\n",
      "Enter the number2\n",
      "fa\n",
      "invalid literal for int() with base 10: 'fa'\n",
      "This is a important line \n"
     ]
    }
   ],
   "source": [
    "print('Enter the number1')\n",
    "num1=input()\n",
    "print('Enter the number2')\n",
    "num2=input()\n",
    "\n",
    "try:\n",
    "    print('the sum of these two number is',int(num1)+int(num2))\n",
    "except Exception as e:\n",
    "    print(e)\n",
    "\n",
    "print(\"This is a important line \")"
   ]
  },
  {
   "cell_type": "code",
   "execution_count": null,
   "id": "8cdef373",
   "metadata": {},
   "outputs": [],
   "source": []
  }
 ],
 "metadata": {
  "kernelspec": {
   "display_name": "Python 3 (ipykernel)",
   "language": "python",
   "name": "python3"
  },
  "language_info": {
   "codemirror_mode": {
    "name": "ipython",
    "version": 3
   },
   "file_extension": ".py",
   "mimetype": "text/x-python",
   "name": "python",
   "nbconvert_exporter": "python",
   "pygments_lexer": "ipython3",
   "version": "3.11.3"
  }
 },
 "nbformat": 4,
 "nbformat_minor": 5
}
