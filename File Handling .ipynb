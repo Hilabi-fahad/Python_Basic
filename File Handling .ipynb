{
 "cells": [
  {
   "cell_type": "markdown",
   "id": "69f2490d",
   "metadata": {},
   "source": [
    "## File Handling "
   ]
  },
  {
   "cell_type": "markdown",
   "id": "5deb8932",
   "metadata": {},
   "source": [
    "The key function for working with files in Python is the open() function.\n",
    "\n",
    "The open() function takes two parameters; filename, and mode.\n",
    "\n",
    "There are four different methods (modes) for opening a file:\n",
    "\n",
    "\"r\" - Read - Default value. Opens a file for reading, error if the file does not exist\n",
    "\n",
    "\"a\" - Append - Opens a file for appending, creates the file if it does not exist\n",
    "\n",
    "\"w\" - Write - Opens a file for writing, creates the file if it does not exist\n",
    "\n",
    "\"x\" - Create - Creates the specified file, returns an error if the file exists"
   ]
  },
  {
   "cell_type": "markdown",
   "id": "d3302d3b",
   "metadata": {},
   "source": [
    "## Opening and Reading file "
   ]
  },
  {
   "cell_type": "code",
   "execution_count": 9,
   "id": "c8aae7e0",
   "metadata": {},
   "outputs": [
    {
     "name": "stdout",
     "output_type": "stream",
     "text": [
      "Hello Word\n",
      "I am Fahad Hilabi workin gin Konecranes form 1.7 year\n",
      "want to make carerr in Data Analytic\n",
      "born in Saudi Arabia \n",
      "in 1995\n",
      "\n"
     ]
    }
   ],
   "source": [
    "## opening the file and reading it \n",
    "\n",
    "f=open('demofile.txt','r')\n",
    "print(f.read())"
   ]
  },
  {
   "cell_type": "code",
   "execution_count": 14,
   "id": "08e85c07",
   "metadata": {},
   "outputs": [
    {
     "name": "stdout",
     "output_type": "stream",
     "text": [
      "Hello\n"
     ]
    }
   ],
   "source": [
    "f=open('demofile.txt','r')\n",
    "print(f.read(5))"
   ]
  },
  {
   "cell_type": "code",
   "execution_count": 11,
   "id": "d32ad332",
   "metadata": {
    "scrolled": true
   },
   "outputs": [
    {
     "name": "stdout",
     "output_type": "stream",
     "text": [
      "Hello Word\n",
      "\n",
      "I am Fahad Hilabi workin gin Konecranes form 1.7 year\n",
      "\n",
      "want to make carerr in Data Analytic\n",
      "\n",
      "born in Saudi Arabia \n",
      "\n",
      "in 1995\n",
      "\n"
     ]
    }
   ],
   "source": [
    "f = open(\"demofile.txt\", \"r\")\n",
    "for x in f:\n",
    "  print(x)"
   ]
  },
  {
   "cell_type": "code",
   "execution_count": 19,
   "id": "199ae29f",
   "metadata": {},
   "outputs": [
    {
     "name": "stdout",
     "output_type": "stream",
     "text": [
      "Hello Word\n",
      "\n",
      "I am Fahad Hilabi workin gin Konecranes form 1.7 year\n",
      "\n"
     ]
    }
   ],
   "source": [
    "f=open('demofile.txt','r')\n",
    "print(f.readline())\n",
    "print(f.readline())"
   ]
  },
  {
   "cell_type": "markdown",
   "id": "98c2a46f",
   "metadata": {},
   "source": [
    "## After reading the file and closing the file \n",
    "it is not nesscaery "
   ]
  },
  {
   "cell_type": "code",
   "execution_count": 21,
   "id": "22968117",
   "metadata": {},
   "outputs": [
    {
     "name": "stdout",
     "output_type": "stream",
     "text": [
      "Hello Word\n",
      "I am Fahad Hilabi workin gin Konecranes form 1.7 year\n",
      "want to make carerr in Data Analytic\n",
      "born in Saudi Arabia \n",
      "in 1995\n",
      "\n"
     ]
    }
   ],
   "source": [
    "f=open('demofile.txt','r')\n",
    "print(f.read())\n",
    "f.close()"
   ]
  },
  {
   "cell_type": "markdown",
   "id": "f1f10a33",
   "metadata": {},
   "source": [
    "## Write to an Existing File\n",
    "\n",
    "To write to an existing file, you must add a parameter to the open() function:\n",
    "\n",
    "\"a\" - Append - will append to the end of the file\n",
    "\n",
    "\"w\" - Write - will overwrite any existing content"
   ]
  },
  {
   "cell_type": "code",
   "execution_count": 24,
   "id": "36a4ef2e",
   "metadata": {},
   "outputs": [
    {
     "name": "stdout",
     "output_type": "stream",
     "text": [
      "Hello Word\n",
      "I am Fahad Hilabi workin gin Konecranes form 1.7 year\n",
      "want to make carerr in Data Analytic\n",
      "born in Saudi Arabia \n",
      "in 1995\n",
      "hello python happy learn youhello python happy learn you\n"
     ]
    }
   ],
   "source": [
    "## \"a\" - Append - will append to the end of the file\n",
    "\n",
    "f=open('demofile.txt','a')\n",
    "f.write('hello python happy learn you')\n",
    "f.close()\n",
    "\n",
    "f=open('demofile.txt','r')\n",
    "print(f.read())"
   ]
  },
  {
   "cell_type": "code",
   "execution_count": 25,
   "id": "a0f3fdc8",
   "metadata": {},
   "outputs": [
    {
     "name": "stdout",
     "output_type": "stream",
     "text": [
      "Woow I have deleted the content\n"
     ]
    }
   ],
   "source": [
    "## \"w\" - Write - will overwrite any existing content\n",
    "\n",
    "f=open('demofile.txt','w')\n",
    "f.write('Woow I have deleted the content')\n",
    "f.close()\n",
    "\n",
    "f=open('demofile.txt','r')\n",
    "print(f.read())\n"
   ]
  },
  {
   "cell_type": "markdown",
   "id": "5efd1137",
   "metadata": {},
   "source": [
    "## Creating the File \n",
    "\n",
    "\"x\" - Create - will create a file, returns an error if the file exist\n",
    "\n",
    "\n"
   ]
  },
  {
   "cell_type": "code",
   "execution_count": 26,
   "id": "c1850ef8",
   "metadata": {},
   "outputs": [],
   "source": [
    "f=open('demofile1.txt','x')"
   ]
  },
  {
   "cell_type": "code",
   "execution_count": 27,
   "id": "926caeb1",
   "metadata": {},
   "outputs": [
    {
     "name": "stdout",
     "output_type": "stream",
     "text": [
      "New folder is created\n"
     ]
    }
   ],
   "source": [
    "f=open('demofile1.txt','w')\n",
    "f.write('New folder is created')\n",
    "f.close()\n",
    "\n",
    "f=open('demofile1.txt','r')\n",
    "print(f.read())"
   ]
  },
  {
   "cell_type": "markdown",
   "id": "0b7b128b",
   "metadata": {},
   "source": [
    "## Deleting the File \n",
    "\n",
    "To delete a file, you must import the OS module, and run its os.remove() function:"
   ]
  },
  {
   "cell_type": "code",
   "execution_count": 35,
   "id": "da2844d6",
   "metadata": {},
   "outputs": [
    {
     "ename": "FileNotFoundError",
     "evalue": "[WinError 2] The system cannot find the file specified: 'demofile.txt'",
     "output_type": "error",
     "traceback": [
      "\u001b[1;31m---------------------------------------------------------------------------\u001b[0m",
      "\u001b[1;31mFileNotFoundError\u001b[0m                         Traceback (most recent call last)",
      "Cell \u001b[1;32mIn[35], line 4\u001b[0m\n\u001b[0;32m      1\u001b[0m \u001b[38;5;66;03m## Deleting the file \u001b[39;00m\n\u001b[0;32m      3\u001b[0m \u001b[38;5;28;01mimport\u001b[39;00m \u001b[38;5;21;01mos\u001b[39;00m\n\u001b[1;32m----> 4\u001b[0m os\u001b[38;5;241m.\u001b[39mremove(\u001b[38;5;124m\"\u001b[39m\u001b[38;5;124mdemofile.txt\u001b[39m\u001b[38;5;124m\"\u001b[39m)\n",
      "\u001b[1;31mFileNotFoundError\u001b[0m: [WinError 2] The system cannot find the file specified: 'demofile.txt'"
     ]
    }
   ],
   "source": [
    "## Deleting the file \n",
    "\n",
    "import os\n",
    "os.remove(\"demofile.txt\")\n",
    "\n",
    "## this file already deleted \n",
    "## due to that error occur"
   ]
  },
  {
   "cell_type": "code",
   "execution_count": 31,
   "id": "f4378917",
   "metadata": {},
   "outputs": [
    {
     "name": "stdout",
     "output_type": "stream",
     "text": [
      "The file does not exist\n"
     ]
    }
   ],
   "source": [
    "## Finding the file it is existing \n",
    "\n",
    "import os\n",
    "if os.path.exists(\"demofile.txt\"):\n",
    "  os.remove(\"demofile.txt\")\n",
    "else:\n",
    "  print(\"The file does not exist\")"
   ]
  },
  {
   "cell_type": "code",
   "execution_count": null,
   "id": "a5cb58fd",
   "metadata": {},
   "outputs": [],
   "source": []
  }
 ],
 "metadata": {
  "kernelspec": {
   "display_name": "Python 3 (ipykernel)",
   "language": "python",
   "name": "python3"
  },
  "language_info": {
   "codemirror_mode": {
    "name": "ipython",
    "version": 3
   },
   "file_extension": ".py",
   "mimetype": "text/x-python",
   "name": "python",
   "nbconvert_exporter": "python",
   "pygments_lexer": "ipython3",
   "version": "3.11.3"
  }
 },
 "nbformat": 4,
 "nbformat_minor": 5
}
